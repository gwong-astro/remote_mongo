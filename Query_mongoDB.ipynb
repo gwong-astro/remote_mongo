{
 "cells": [
  {
   "cell_type": "markdown",
   "metadata": {},
   "source": [
    "Author: G. Wong (g.wong@csiro.au)\n",
    "\n",
    "Date: 08.10.19\n",
    "\n",
    "Purpose: If you have database then how to query that database.\n",
    "\n",
    "Execution: run via jupyter notebook\n"
   ]
  },
  {
   "cell_type": "code",
   "execution_count": 3,
   "metadata": {},
   "outputs": [],
   "source": [
    "from pymongo import MongoClient  # Assumption that you already have mongoDB installed and running\n"
   ]
  },
  {
   "cell_type": "code",
   "execution_count": 5,
   "metadata": {},
   "outputs": [
    {
     "name": "stdout",
     "output_type": "stream",
     "text": [
      "['admin', 'config', 'dingoDBversion1', 'local', 'test', 'test2']\n",
      "\n",
      "Search by _id (sbid)\n",
      "Number of docs: 1\n",
      "Output everything: {'filepath': '/Users/won10d/Documents/DINGO/development/Testing/example_ASKAPSoft_output/imhead.last'}\n",
      "\n",
      "Search by key and value\n",
      "Number of documents found: 3 \n",
      "\n",
      "SBID: 1237 Filename: /Users/won10d/Documents/DINGO/development/Testing/example_ASKAPSoft_output/parset.in\n",
      "SBID: 1238 Filename: /Users/won10d/Documents/DINGO/development/Testing/example_ASKAPSoft_output/parset.in\n",
      "SBID: 1239 Filename: /Users/won10d/Documents/DINGO/development/Testing/example_ASKAPSoft_output/parset.in\n"
     ]
    }
   ],
   "source": [
    "\n",
    "# Setup and connection\n",
    "client=\"mongodb://localhost:27017/\"\n",
    "dbname = \"test2\"\n",
    "collection=\"observations\"    \n",
    "    \n",
    "mongo_client = MongoClient(client) # A MongoDB instance for Python\n",
    "db = mongo_client[dbname]                               # A database instance\n",
    "col = db[collection]                                 # A collection instance\n",
    "\n",
    "\n",
    "print(mongo_client.list_database_names())  # Print the database name\n",
    "\n",
    "# print(col.find_one())\n",
    "\n",
    "\n",
    "print('\\nSearch by _id (sbid)')\n",
    "sbIdent = '1238'\n",
    "searchByID = {'_id': sbIdent}\n",
    "print (f\"Number of docs: {col.count_documents(searchByID)}\")\n",
    "docs = col.find(searchByID)\n",
    "\n",
    "for doc in docs:\n",
    "    collection = doc['dataset']['dumps']\n",
    "    print(\"Output everything: {}\".format(collection['imhead_last']))\n",
    "\n",
    "\n",
    "\n",
    "print('\\nSearch by key and value')\n",
    "filter_by = {'dataset.parset.Cimager_imagetype': {'$regex':'^[ ]?casa'}}\n",
    "data = col.find(filter_by)\n",
    "print('Number of documents found: {}'.format(col.count_documents(filter_by)),'\\n')\n",
    "for entry in data:\n",
    "    collection = entry['dataset']['parset']\n",
    "    print('SBID: {} Filename: {}'.format(entry['_id'],collection['filepath']))\n",
    "\n",
    "\n",
    "\n",
    "\n"
   ]
  },
  {
   "cell_type": "code",
   "execution_count": null,
   "metadata": {},
   "outputs": [],
   "source": []
  },
  {
   "cell_type": "code",
   "execution_count": null,
   "metadata": {},
   "outputs": [],
   "source": []
  },
  {
   "cell_type": "code",
   "execution_count": null,
   "metadata": {},
   "outputs": [],
   "source": []
  }
 ],
 "metadata": {
  "kernelspec": {
   "display_name": "Python 3",
   "language": "python",
   "name": "python3"
  },
  "language_info": {
   "codemirror_mode": {
    "name": "ipython",
    "version": 3
   },
   "file_extension": ".py",
   "mimetype": "text/x-python",
   "name": "python",
   "nbconvert_exporter": "python",
   "pygments_lexer": "ipython3",
   "version": "3.7.3"
  }
 },
 "nbformat": 4,
 "nbformat_minor": 2
}
